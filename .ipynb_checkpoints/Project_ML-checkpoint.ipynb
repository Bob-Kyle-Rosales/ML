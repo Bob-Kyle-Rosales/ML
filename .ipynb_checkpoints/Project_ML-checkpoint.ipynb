{
 "cells": [
  {
   "cell_type": "markdown",
   "metadata": {},
   "source": [
    "# Disease Prediction based on Symtoms"
   ]
  },
  {
   "cell_type": "code",
   "execution_count": 1,
   "metadata": {},
   "outputs": [],
   "source": [
    "#Importing Libraries\n",
    "!pip install python-Levenshtein\n",
    "import Levenshtein\n",
    "\n",
    "from mpl_toolkits.mplot3d import Axes3D\n",
    "from sklearn.preprocessing import StandardScaler\n",
    "import matplotlib.pyplot as plt\n",
    "from tkinter import *\n",
    "import numpy as np\n",
    "import pandas as pd\n",
    "import os"
   ]
  },
  {
   "cell_type": "code",
   "execution_count": 2,
   "metadata": {},
   "outputs": [],
   "source": [
    "#List of the symptoms is listed here in list l1.\n",
    "\n",
    "l1=['back pain','constipation','abdominal pain','diarrhoea','mild fever','yellow urine',\n",
    "    'yellowing of eyes','acute liver failure','fluid overload','swelling of stomach',\n",
    "    'swelled lymph nodes','malaise','blurred and distorted vision','phlegm','throat irritation',\n",
    "    'redness of eyes','sinus pressure','runny nose','congestion','chest pain','weakness in limbs',\n",
    "    'fast heart rate','pain during bowel movements','pain in anal region','bloody stool',\n",
    "    'irritation in anus','neck pain','dizziness','cramps','bruising','obesity','swollen legs',\n",
    "    'swollen blood vessels','puffy face and eyes','enlarged thyroid','brittle nails',\n",
    "    'swollen extremeties','excessive hunger','extra marital contacts','drying and tingling lips',\n",
    "    'slurred speech','knee pain','hip joint pain','muscle weakness','stiff neck','swelling joints',\n",
    "    'movement stiffness','spinning movements','loss of balance','unsteadiness',\n",
    "    'weakness of one body side','loss of smell','bladder discomfort','foul smell of urine',\n",
    "    'continuous feel of urine','passage of gases','internal itching','toxic look (typhos)',\n",
    "    'depression','irritability','muscle pain','altered sensorium','red spots over body','belly pain',\n",
    "    'abnormal menstruation','dischromic  patches','watering from eyes','increased appetite','polyuria','family history','mucoid sputum',\n",
    "    'rusty sputum','lack of concentration','visual disturbances','receiving blood transfusion',\n",
    "    'receiving unsterile injections','coma','stomach bleeding','distention of abdomen',\n",
    "    'history of alcohol consumption','fluid overload','blood in sputum','prominent veins on calf',\n",
    "    'palpitations','painful walking','pus filled pimples','blackheads','scurring','skin peeling',\n",
    "    'silver like dusting','small dents in nails','inflammatory nails','blister','red sore around nose',\n",
    "    'yellow crust ooze'\n",
    "]"
   ]
  },
  {
   "cell_type": "code",
   "execution_count": 3,
   "metadata": {},
   "outputs": [],
   "source": [
    "#List of Diseases is listed in list disease.\n",
    "\n",
    "disease=['Fungal infection', 'Allergy', 'GERD', 'Chronic cholestasis',\n",
    "       'Drug Reaction', 'Peptic ulcer diseae', 'AIDS', 'Diabetes ',\n",
    "       'Gastroenteritis', 'Bronchial Asthma', 'Hypertension ', 'Migraine',\n",
    "       'Cervical spondylosis', 'Paralysis (brain hemorrhage)', 'Jaundice',\n",
    "       'Malaria', 'Chicken pox', 'Dengue', 'Typhoid', 'hepatitis A',\n",
    "       'Hepatitis B', 'Hepatitis C', 'Hepatitis D', 'Hepatitis E',\n",
    "       'Alcoholic hepatitis', 'Tuberculosis', 'Common Cold', 'Pneumonia',\n",
    "       'Dimorphic hemmorhoids(piles)', 'Heart attack', 'Varicose veins',\n",
    "       'Hypothyroidism', 'Hyperthyroidism', 'Hypoglycemia',\n",
    "       'Osteoarthristis', 'Arthritis',\n",
    "       '(vertigo) Paroymsal  Positional Vertigo', 'Acne',\n",
    "       'Urinary tract infection', 'Psoriasis', 'Impetigo']\n",
    "\n",
    "#disease = [df['prognosis'].unique()]\n",
    "#print(disease)"
   ]
  },
  {
   "cell_type": "code",
   "execution_count": 4,
   "metadata": {
    "scrolled": true
   },
   "outputs": [],
   "source": [
    "l2=[]\n",
    "for i in range(0,len(l1)):\n",
    "    l2.append(0)\n",
    "print(l2)"
   ]
  },
  {
   "cell_type": "code",
   "execution_count": 5,
   "metadata": {},
   "outputs": [],
   "source": [
    "#Reading the training .csv file\n",
    "df=pd.read_csv(\"training.csv\")\n",
    "DF= pd.read_csv('training.csv', index_col='prognosis')\n",
    "#Replace the values in the imported file by pandas by the inbuilt function replace in pandas.\n",
    "\n",
    "df.replace({'prognosis':{'Fungal infection':0,'Allergy':1,'GERD':2,'Chronic cholestasis':3,'Drug Reaction':4,\n",
    "    'Peptic ulcer diseae':5,'AIDS':6,'Diabetes ':7,'Gastroenteritis':8,'Bronchial Asthma':9,'Hypertension ':10,\n",
    "    'Migraine':11,'Cervical spondylosis':12,\n",
    "    'Paralysis (brain hemorrhage)':13,'Jaundice':14,'Malaria':15,'Chicken pox':16,'Dengue':17,'Typhoid':18,'hepatitis A':19,\n",
    "    'Hepatitis B':20,'Hepatitis C':21,'Hepatitis D':22,'Hepatitis E':23,'Alcoholic hepatitis':24,'Tuberculosis':25,\n",
    "    'Common Cold':26,'Pneumonia':27,'Dimorphic hemmorhoids(piles)':28,'Heart attack':29,'Varicose veins':30,'Hypothyroidism':31,\n",
    "    'Hyperthyroidism':32,'Hypoglycemia':33,'Osteoarthristis':34,'Arthritis':35,\n",
    "    '(vertigo) Paroymsal  Positional Vertigo':36,'Acne':37,'Urinary tract infection':38,'Psoriasis':39,\n",
    "    'Impetigo':40}},inplace=True)\n",
    "#df.head()\n",
    "DF.head()"
   ]
  },
  {
   "cell_type": "code",
   "execution_count": 6,
   "metadata": {},
   "outputs": [],
   "source": [
    "# Distribution graphs (histogram/bar graph) of column data\n",
    "def plotPerColumnDistribution(df1, nGraphShown, nGraphPerRow):\n",
    "    nunique = df1.nunique()\n",
    "    df1 = df1[[col for col in df if nunique[col] > 1 and nunique[col] < 50]] # For displaying purposes, pick columns that have between 1 and 50 unique values\n",
    "    nRow, nCol = df1.shape\n",
    "    columnNames = list(df1)\n",
    "    nGraphRow = (nCol + nGraphPerRow - 1) / nGraphPerRow\n",
    "    plt.figure(num = None, figsize = (6 * nGraphPerRow, 8 * nGraphRow), dpi = 80, facecolor = 'w', edgecolor = 'k')\n",
    "    for i in range(min(nCol, nGraphShown)):\n",
    "        plt.subplot(nGraphRow, nGraphPerRow, i + 1)\n",
    "        columnDf = df.iloc[:, i]\n",
    "        if (not np.issubdtype(type(columnDf.iloc[0]), np.number)):\n",
    "            valueCounts = columnDf.value_counts()\n",
    "            valueCounts.plot.bar()\n",
    "        else:\n",
    "            columnDf.hist()\n",
    "        plt.ylabel('counts')\n",
    "        plt.xticks(rotation = 90)\n",
    "        plt.title(f'{columnNames[i]} (column {i})')\n",
    "    plt.tight_layout(pad = 1.0, w_pad = 1.0, h_pad = 1.0)\n",
    "    plt.show()"
   ]
  },
  {
   "cell_type": "code",
   "execution_count": 7,
   "metadata": {},
   "outputs": [],
   "source": [
    "# Scatter and density plots\n",
    "def plotScatterMatrix(df1, plotSize, textSize):\n",
    "    df1 = df1.select_dtypes(include =[np.number]) # keep only numerical columns\n",
    "    # Remove rows and columns that would lead to df being singular\n",
    "    df1 = df1.dropna('columns')\n",
    "    df1 = df1[[col for col in df if df[col].nunique() > 1]] # keep columns where there are more than 1 unique values\n",
    "    columnNames = list(df)\n",
    "    if len(columnNames) > 10: # reduce the number of columns for matrix inversion of kernel density plots\n",
    "        columnNames = columnNames[:10]\n",
    "    df1 = df1[columnNames]\n",
    "    ax = pd.plotting.scatter_matrix(df1, alpha=0.75, figsize=[plotSize, plotSize], diagonal='kde')\n",
    "    corrs = df1.corr().values\n",
    "    for i, j in zip(*plt.np.triu_indices_from(ax, k = 1)):\n",
    "        ax[i, j].annotate('Corr. coef = %.3f' % corrs[i, j], (0.8, 0.2), xycoords='axes fraction', ha='center', va='center', size=textSize)\n",
    "    plt.suptitle('Scatter and Density Plot')\n",
    "    plt.show()\n"
   ]
  },
  {
   "cell_type": "code",
   "execution_count": 8,
   "metadata": {},
   "outputs": [],
   "source": [
    "#plotPerColumnDistribution(df, 10, 5)"
   ]
  },
  {
   "cell_type": "code",
   "execution_count": 9,
   "metadata": {},
   "outputs": [],
   "source": [
    "#plotScatterMatrix(df, 20, 10)"
   ]
  },
  {
   "cell_type": "code",
   "execution_count": 10,
   "metadata": {},
   "outputs": [],
   "source": [
    "X= df[l1]\n",
    "y = df[[\"prognosis\"]]\n",
    "np.ravel(y)\n",
    "print(X)"
   ]
  },
  {
   "cell_type": "code",
   "execution_count": 11,
   "metadata": {},
   "outputs": [],
   "source": [
    "print(y)"
   ]
  },
  {
   "cell_type": "code",
   "execution_count": 12,
   "metadata": {},
   "outputs": [],
   "source": [
    "#Reading the  testing.csv file\n",
    "tr=pd.read_csv(\"testing.csv\")\n",
    "\n",
    "#Using inbuilt function replace in pandas for replacing the values\n",
    "\n",
    "tr.replace({'prognosis':{'Fungal infection':0,'Allergy':1,'GERD':2,'Chronic cholestasis':3,'Drug Reaction':4,\n",
    "    'Peptic ulcer diseae':5,'AIDS':6,'Diabetes ':7,'Gastroenteritis':8,'Bronchial Asthma':9,'Hypertension ':10,\n",
    "    'Migraine':11,'Cervical spondylosis':12,\n",
    "    'Paralysis (brain hemorrhage)':13,'Jaundice':14,'Malaria':15,'Chicken pox':16,'Dengue':17,'Typhoid':18,'hepatitis A':19,\n",
    "    'Hepatitis B':20,'Hepatitis C':21,'Hepatitis D':22,'Hepatitis E':23,'Alcoholic hepatitis':24,'Tuberculosis':25,\n",
    "    'Common Cold':26,'Pneumonia':27,'Dimorphic hemmorhoids(piles)':28,'Heart attack':29,'Varicose veins':30,'Hypothyroidism':31,\n",
    "    'Hyperthyroidism':32,'Hypoglycemia':33,'Osteoarthristis':34,'Arthritis':35,\n",
    "    '(vertigo) Paroymsal  Positional Vertigo':36,'Acne':37,'Urinary tract infection':38,'Psoriasis':39,\n",
    "    'Impetigo':40}},inplace=True)\n",
    "tr.head()"
   ]
  },
  {
   "cell_type": "code",
   "execution_count": 13,
   "metadata": {},
   "outputs": [],
   "source": [
    "X_test= tr[l1]\n",
    "y_test = tr[[\"prognosis\"]]\n",
    "np.ravel(y_test)\n",
    "print(X_test)"
   ]
  },
  {
   "cell_type": "code",
   "execution_count": 14,
   "metadata": {},
   "outputs": [],
   "source": [
    "print(y_test)"
   ]
  },
  {
   "cell_type": "markdown",
   "metadata": {},
   "source": [
    "# Random Forest Algorithm"
   ]
  },
  {
   "cell_type": "code",
   "execution_count": 15,
   "metadata": {},
   "outputs": [],
   "source": [
    "def find_closest_match(input_text, word_list):\n",
    "    highest_ratio = 0\n",
    "    closest_match = ''\n",
    "\n",
    "    for word in word_list:\n",
    "        ratio = Levenshtein.ratio(input_text.lower(), word.lower())\n",
    "        if ratio > highest_ratio:\n",
    "            highest_ratio = ratio\n",
    "            closest_match = word\n",
    "\n",
    "    return closest_match"
   ]
  },
  {
   "cell_type": "code",
   "execution_count": 16,
   "metadata": {},
   "outputs": [],
   "source": [
    "import csv\n",
    "def map_word_to_row(word):\n",
    "    with open('symptom_Description.csv', 'r') as file:\n",
    "        reader = csv.reader(file)\n",
    "        next(reader)  # Skip the header row\n",
    "        for row in reader:\n",
    "            if row[0] == word:\n",
    "                return row[0], row[1]\n",
    "\n",
    "    return None, None  # Word not found"
   ]
  },
  {
   "cell_type": "code",
   "execution_count": 17,
   "metadata": {},
   "outputs": [],
   "source": [
    "root = Tk()\n",
    "pred2=StringVar()\n",
    "def randomforest():\n",
    "        from sklearn.ensemble import RandomForestClassifier\n",
    "        clf4 = RandomForestClassifier(n_estimators=100)\n",
    "        clf4 = clf4.fit(X,np.ravel(y))\n",
    "\n",
    "        # calculating accuracy \n",
    "        from sklearn.metrics import classification_report,confusion_matrix,accuracy_score\n",
    "        y_pred=clf4.predict(X_test)\n",
    "        print(\"Random Forest\")\n",
    "        print(\"Accuracy\")\n",
    "        print(accuracy_score(y_test, y_pred))\n",
    "        print(accuracy_score(y_test, y_pred,normalize=False))\n",
    "        print(\"Confusion matrix\")\n",
    "        conf_matrix=confusion_matrix(y_test,y_pred)\n",
    "        print(conf_matrix)\n",
    "    \n",
    "        psymptoms = [Symptom1.get(),Symptom2.get(),Symptom3.get(),Symptom4.get(),Symptom5.get()]\n",
    "\n",
    "        for k in range(0,len(l1)):\n",
    "            for z in psymptoms:\n",
    "                if(find_closest_match(z, l1)==l1[k]):\n",
    "                    l2[k]=1\n",
    "\n",
    "        inputtest = [l2]\n",
    "        predict = clf4.predict(inputtest)\n",
    "        predicted=predict[0]\n",
    "        h='no'\n",
    "        for a in range(0,len(disease)):\n",
    "            if(predicted == a):\n",
    "                h='yes'\n",
    "                break\n",
    "        if (h=='yes'):\n",
    "            pred2.set(\" \")\n",
    "            #getting also the description of the disease\n",
    "            pred2.set(disease[a] + \" - \" + map_word_to_row(disease[a])[1])\n",
    "            \n",
    "            #formating the pred2 string\n",
    "            import textwrap\n",
    "            formatted_output = \"\\n\".join(textwrap.wrap(pred2.get(), width=40))\n",
    "            pred2.set(formatted_output)\n",
    "            print(pred2.get())\n",
    "        else:\n",
    "            pred2.set(\" \")\n",
    "            pred2.set(\"Not Found\")"
   ]
  },
  {
   "cell_type": "markdown",
   "metadata": {},
   "source": [
    "# Building Graphical User Interface"
   ]
  },
  {
   "cell_type": "code",
   "execution_count": 18,
   "metadata": {},
   "outputs": [],
   "source": [
    "#Tk class is used to create a root window\n",
    "root.configure(background='Ivory')\n",
    "root.title('Smart Disease Predictor System')\n",
    "root.resizable(0,0)"
   ]
  },
  {
   "cell_type": "code",
   "execution_count": 19,
   "metadata": {},
   "outputs": [],
   "source": [
    "Symptom1 = StringVar()\n",
    "Symptom1.set(\"\")\n",
    "\n",
    "Symptom2 = StringVar()\n",
    "Symptom2.set(\"\")\n",
    "\n",
    "Symptom3 = StringVar()\n",
    "Symptom3.set(\"\")\n",
    "\n",
    "Symptom4 = StringVar()\n",
    "Symptom4.set(\"\")\n",
    "\n",
    "Symptom5 = StringVar()\n",
    "Symptom5.set(\"\")\n",
    "Name = StringVar()"
   ]
  },
  {
   "cell_type": "code",
   "execution_count": 20,
   "metadata": {},
   "outputs": [],
   "source": [
    "#Headings for the GUI written at the top of GUI\n",
    "w2 = Label(root, justify=LEFT, text=\"Disease Predictor using Machine Learning\", fg=\"Red\", bg=\"Ivory\")\n",
    "w2.config(font=(\"Times\",30,\"bold italic\"))\n",
    "w2.grid(row=1, column=0, columnspan=2, padx=100)"
   ]
  },
  {
   "cell_type": "code",
   "execution_count": 21,
   "metadata": {},
   "outputs": [],
   "source": [
    "\n",
    "Label(root, text=\"Symptom 1:\").grid(row=8, column=0)\n",
    "Label(root, text=\"Symptom 2:\").grid(row=9, column=0)\n",
    "Label(root, text=\"Symptom 3:\").grid(row=10, column=0)\n",
    "Label(root, text=\"Symptom 4:\").grid(row=11, column=0)\n",
    "Label(root, text=\"Symptom 5:\").grid(row=12, column=0)\n",
    "\n",
    "symptom1_entry = Entry(root,textvariable=Symptom1)\n",
    "symptom1_entry.grid(row=8, column=1)\n",
    "\n",
    "symptom2_entry = Entry(root,textvariable=Symptom2)\n",
    "symptom2_entry.grid(row=9, column=1)\n",
    "\n",
    "symptom3_entry = Entry(root,textvariable=Symptom3)\n",
    "symptom3_entry.grid(row=10, column=1)\n",
    "\n",
    "symptom4_entry = Entry(root,textvariable=Symptom4)\n",
    "symptom4_entry.grid(row=11, column=1)\n",
    "\n",
    "symptom5_entry = Entry(root,textvariable=Symptom5)\n",
    "symptom5_entry.grid(row=12, column=1)\n"
   ]
  },
  {
   "cell_type": "code",
   "execution_count": 22,
   "metadata": {},
   "outputs": [],
   "source": [
    "#Buttons for predicting the disease using different algorithms\n",
    "\n",
    "rnf = Button(root, text=\"Predict\", command=randomforest,bg=\"Light green\",fg=\"red\")\n",
    "rnf.config(font=(\"Times\",15,\"bold italic\"))\n",
    "rnf.grid(row=16, column=0,padx=10)\n"
   ]
  },
  {
   "cell_type": "code",
   "execution_count": 23,
   "metadata": {},
   "outputs": [],
   "source": [
    "\n",
    "\n",
    "t2=Label(root,font=(\"Times\",12,\"bold italic\"),text=\"Random Forest\",height=10,bg=\"Purple\"\n",
    "         ,width=40,fg=\"white\",textvariable=pred2,relief=\"sunken\").grid(row=7, column=1, padx=10, pady=10)\n"
   ]
  },
  {
   "cell_type": "code",
   "execution_count": null,
   "metadata": {},
   "outputs": [],
   "source": [
    "#calling this function because the application is ready to run\n",
    "root.mainloop()"
   ]
  },
  {
   "cell_type": "code",
   "execution_count": null,
   "metadata": {},
   "outputs": [],
   "source": []
  }
 ],
 "metadata": {
  "kernelspec": {
   "display_name": "Python 3 (ipykernel)",
   "language": "python",
   "name": "python3"
  },
  "language_info": {
   "codemirror_mode": {
    "name": "ipython",
    "version": 3
   },
   "file_extension": ".py",
   "mimetype": "text/x-python",
   "name": "python",
   "nbconvert_exporter": "python",
   "pygments_lexer": "ipython3",
   "version": "3.10.11"
  }
 },
 "nbformat": 4,
 "nbformat_minor": 2
}
